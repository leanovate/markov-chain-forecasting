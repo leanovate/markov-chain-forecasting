{
 "cells": [
  {
   "cell_type": "markdown",
   "metadata": {},
   "source": [
    "# Modeling kanban boards with markov chains\n",
    "\n",
    "In this notebook we will train and test a markov chain model on data extracted from a team's kanban board.\n",
    "This is inspired by the talk from 'Forecasting in Complex Systems' Olga Heismann on the LKCE 2018. See the following links for reference:\n",
    "* [Vimeo](https://vimeo.com/302850933)\n",
    "* [Slideshare](https://de.slideshare.net/lkce/olga-heismann-forcasting-in-complex-systems)\n",
    "\n",
    "Together with this notebook you will find data that was extracted from the boards of two teams.\n",
    "You can use you own data if you use the following format:\n",
    "```\n",
    "0,0,0,1,2,2,4,5\n",
    "0,0,1,2,3,5\n",
    "...\n",
    "```\n",
    "Where every line represents a ticket. The numbers a separated by a `,` and represent the column the ticket was in on a specific date. Line `0,0,1,2,3,5` means that the ticket was in colum `0` for 2 days, then 1 day in column 2 and 3, and then ending in column 5."
   ]
  },
  {
   "cell_type": "markdown",
   "metadata": {},
   "source": [
    "### Setup\n",
    "Setting up dependencies and some helper methods."
   ]
  },
  {
   "cell_type": "code",
   "execution_count": 1,
   "metadata": {},
   "outputs": [
    {
     "name": "stdout",
     "output_type": "stream",
     "text": [
      "Collecting numpy\n",
      "\u001b[?25l  Downloading https://files.pythonhosted.org/packages/fc/d1/45be1144b03b6b1e24f9a924f23f66b4ad030d834ad31fb9e5581bd328af/numpy-1.16.4-cp37-cp37m-manylinux1_x86_64.whl (17.3MB)\n",
      "\u001b[K     |████████████████████████████████| 17.3MB 3.9MB/s eta 0:00:01    |███████▏                        | 3.9MB 1.6MB/s eta 0:00:09     |███████████████████████████▉    | 15.1MB 4.5MB/s eta 0:00:01     |█████████████████████████████   | 15.7MB 4.5MB/s eta 0:00:01     |██████████████████████████████  | 16.2MB 4.5MB/s eta 0:00:01\n",
      "\u001b[?25hInstalling collected packages: numpy\n",
      "Successfully installed numpy-1.16.4\n",
      "Collecting matplotlib\n",
      "\u001b[?25l  Downloading https://files.pythonhosted.org/packages/19/7a/60bd79c5d79559150f8bba866dd7d434f0a170312e4d15e8aefa5faba294/matplotlib-3.1.1-cp37-cp37m-manylinux1_x86_64.whl (13.1MB)\n",
      "\u001b[K     |████████████████████████████████| 13.1MB 9.5MB/s eta 0:00:01    |███                             | 1.2MB 1.8MB/s eta 0:00:07     |███████████████████████         | 9.5MB 1.8MB/s eta 0:00:03     |█████████████████████████▋      | 10.5MB 9.5MB/s eta 0:00:01\n",
      "\u001b[?25hCollecting pyparsing!=2.0.4,!=2.1.2,!=2.1.6,>=2.0.1 (from matplotlib)\n",
      "\u001b[?25l  Downloading https://files.pythonhosted.org/packages/dd/d9/3ec19e966301a6e25769976999bd7bbe552016f0d32b577dc9d63d2e0c49/pyparsing-2.4.0-py2.py3-none-any.whl (62kB)\n",
      "\u001b[K     |████████████████████████████████| 71kB 22.4MB/s eta 0:00:01\n",
      "\u001b[?25hCollecting kiwisolver>=1.0.1 (from matplotlib)\n",
      "\u001b[?25l  Downloading https://files.pythonhosted.org/packages/93/f8/518fb0bb89860eea6ff1b96483fbd9236d5ee991485d0f3eceff1770f654/kiwisolver-1.1.0-cp37-cp37m-manylinux1_x86_64.whl (90kB)\n",
      "\u001b[K     |████████████████████████████████| 92kB 11.2MB/s eta 0:00:01\n",
      "\u001b[?25hCollecting cycler>=0.10 (from matplotlib)\n",
      "  Downloading https://files.pythonhosted.org/packages/f7/d2/e07d3ebb2bd7af696440ce7e754c59dd546ffe1bbe732c8ab68b9c834e61/cycler-0.10.0-py2.py3-none-any.whl\n",
      "Requirement already satisfied: python-dateutil>=2.1 in /opt/conda/lib/python3.7/site-packages (from matplotlib) (2.8.0)\n",
      "Requirement already satisfied: numpy>=1.11 in /opt/conda/lib/python3.7/site-packages (from matplotlib) (1.16.4)\n",
      "Requirement already satisfied: setuptools in /opt/conda/lib/python3.7/site-packages (from kiwisolver>=1.0.1->matplotlib) (41.0.1)\n",
      "Requirement already satisfied: six in /opt/conda/lib/python3.7/site-packages (from cycler>=0.10->matplotlib) (1.12.0)\n",
      "Installing collected packages: pyparsing, kiwisolver, cycler, matplotlib\n",
      "Successfully installed cycler-0.10.0 kiwisolver-1.1.0 matplotlib-3.1.1 pyparsing-2.4.0\n"
     ]
    }
   ],
   "source": [
    "import sys\n",
    "!{sys.executable} -m pip install numpy\n",
    "!{sys.executable} -m pip install matplotlib\n",
    "\n",
    "from collections import defaultdict, Counter\n",
    "import numpy as np\n",
    "import matplotlib.pyplot as plot\n",
    "from numpy.linalg import inv\n",
    "from functools import reduce\n",
    "from statistics import mean\n",
    "import random\n",
    "\n",
    "def firstPositiveIndex(l):\n",
    "    for (index, e) in enumerate(l):\n",
    "        if e>=0:\n",
    "            return index\n",
    "\n",
    "def getNextState(row, currentState):\n",
    "    r = random.random()\n",
    "    monteCarlo = reduce(lambda l, e: l + [e+l[-1]] if l else [e], row, [])\n",
    "    return firstPositiveIndex(np.array(monteCarlo)-r)\n",
    "\n",
    "def dayUntilDone(tM, startState, numberOfRuns):\n",
    "    runs = []\n",
    "    absorbingStates = np.nonzero(tM == 1)[0] # doesn't matter if the take axis 0 or 1 as they both are equal\n",
    "    for _ in range(numberOfRuns):\n",
    "        currentState = startState\n",
    "        daysPassed = 0\n",
    "        while not currentState in absorbingStates:\n",
    "            row = tM[currentState]\n",
    "            currentState = getNextState(row, currentState)\n",
    "            daysPassed += 1\n",
    "        runs.append(daysPassed)\n",
    "    return mean(runs)\n",
    "\n",
    "\n",
    "def toTransitionMatrix(model, numStates):\n",
    "    result = np.zeros((numStates, numStates))\n",
    "    keys = range(numStates)\n",
    "    absorbingStateCount = 0\n",
    "    for y in keys:\n",
    "        sumCount = sum(model[y].values())\n",
    "        if sumCount == 0:\n",
    "            result[y][y] = 1 # absorbing transition \n",
    "            absorbingStateCount += 1\n",
    "            continue\n",
    "        result[y] = [model[y][x]/sumCount for x in keys]\n",
    "    \n",
    "    transientStateCount = result.shape[0]-absorbingStateCount\n",
    "    sMatrix = result[0:transientStateCount,0:transientStateCount]\n",
    "    qMatrix = inv(np.identity(transientStateCount) - sMatrix)\n",
    "    \n",
    "    return (result, qMatrix)\n",
    "\n",
    "flatten = lambda l: [item for sublist in l for item in sublist]\n"
   ]
  },
  {
   "cell_type": "markdown",
   "metadata": {},
   "source": [
    "# Applying the Markov-Chain model to the board data"
   ]
  },
  {
   "cell_type": "code",
   "execution_count": 2,
   "metadata": {},
   "outputs": [
    {
     "name": "stdout",
     "output_type": "stream",
     "text": [
      "We will create a markov chain with 6 states.\n"
     ]
    }
   ],
   "source": [
    "with open(\"team1-cycletime.csv\") as f:\n",
    "    dataRows = f.readlines()\n",
    "dataSet = list(map(lambda row: list(map(int, row.strip(\"\\n\").split(\",\"))), dataRows))\n",
    "\n",
    "NUMBER_OF_STATES = len(set(flatten(dataSet)))\n",
    "\n",
    "print(\"We will create a markov chain with {} states.\".format(NUMBER_OF_STATES))"
   ]
  },
  {
   "cell_type": "code",
   "execution_count": 3,
   "metadata": {},
   "outputs": [
    {
     "name": "stdout",
     "output_type": "stream",
     "text": [
      "We have a training set of 273 tickets and a test set of 118 tickets (391 total).\n"
     ]
    }
   ],
   "source": [
    "\n",
    "TRAINING_SET_RATIO = 0.7\n",
    "\n",
    "# random.shuffle(dataSet) # shuffle the data if you want training and testing sets to be randomized.\n",
    "\n",
    "split = int(len(dataSet)*TRAINING_SET_RATIO)\n",
    "trainingSet = dataSet[:split]\n",
    "testingSet = dataSet[split:]\n",
    "\n",
    "print(\"We have a training set of {} tickets and a test set of {} tickets ({} total).\"\n",
    "      .format(split, len(dataSet)-split, len(dataSet)))"
   ]
  },
  {
   "cell_type": "code",
   "execution_count": 4,
   "metadata": {},
   "outputs": [
    {
     "name": "stdout",
     "output_type": "stream",
     "text": [
      "Transition matrix:\n",
      "[[0.92 0.05 0.02 0.   0.   0.01]\n",
      " [0.   0.88 0.08 0.02 0.01 0.02]\n",
      " [0.   0.   0.89 0.04 0.01 0.06]\n",
      " [0.   0.   0.   0.69 0.04 0.26]\n",
      " [0.   0.   0.   0.   0.66 0.34]\n",
      " [0.   0.   0.   0.   0.   1.  ]]\n"
     ]
    },
    {
     "data": {
      "image/png": "[encoded data removed]",
      "text/plain": [
       "<Figure size 288x288 with 2 Axes>"
      ]
     },
     "metadata": {
      "needs_background": "light"
     },
     "output_type": "display_data"
    }
   ],
   "source": [
    "model = defaultdict(Counter)\n",
    "for row in trainingSet:\n",
    "    for i in range(len(row) - 1):\n",
    "        state = row[i]\n",
    "        nextState = row[i + 1]\n",
    "        model[state][nextState] += 1\n",
    "\n",
    "(matrix, Q) = toTransitionMatrix(model, NUMBER_OF_STATES)\n",
    "print(\"Transition matrix:\")\n",
    "print(matrix.round(decimals=2))\n",
    "\n",
    "plot.matshow(matrix);\n",
    "plot.colorbar()\n",
    "plot.show()"
   ]
  },
  {
   "cell_type": "markdown",
   "metadata": {},
   "source": [
    "## Q&A\n",
    "\n",
    "Now that we have our model trained, we can use it to make predictions for our board.\n",
    "\n",
    "### How will a board look after a specific amount of time?"
   ]
  },
  {
   "cell_type": "code",
   "execution_count": 5,
   "metadata": {},
   "outputs": [
    {
     "name": "stdout",
     "output_type": "stream",
     "text": [
      "Q: How will this board: '[0, 5, 0, 0, 0, 0]' look after 7 days?\n",
      "A: [0.         2.00606051 1.24022767 0.26240357 0.13033737 1.36097088]\n"
     ]
    }
   ],
   "source": [
    "days = 7\n",
    "board = [0] * NUMBER_OF_STATES\n",
    "board[1] = 5\n",
    "print(\"Q: How will this board: '{}' look after {} days?\".format(board, days))\n",
    "matrixAfterSomeTime = np.linalg.matrix_power(matrix, days)\n",
    "borderAfterSomeTime = (board @ matrixAfterSomeTime)\n",
    "print(\"A: {}\".format(borderAfterSomeTime))"
   ]
  },
  {
   "cell_type": "markdown",
   "metadata": {},
   "source": [
    "### When will a work item in a specific state be done?"
   ]
  },
  {
   "cell_type": "code",
   "execution_count": 6,
   "metadata": {
    "scrolled": true
   },
   "outputs": [
    {
     "name": "stdout",
     "output_type": "stream",
     "text": [
      "[23.36609652 15.26558091 10.35994126  3.68926818  2.9787234 ]\n"
     ]
    },
    {
     "data": {
      "image/png": "[encoded data removed]",
      "text/plain": [
       "<Figure size 432x288 with 1 Axes>"
      ]
     },
     "metadata": {
      "needs_background": "light"
     },
     "output_type": "display_data"
    }
   ],
   "source": [
    "daysToCompletion = np.sum(Q, 1)\n",
    "print(daysToCompletion)\n",
    "\n",
    "xValues = range(len(daysToCompletion))\n",
    "plot.bar(xValues, daysToCompletion)\n",
    "plot.ylabel('days')\n",
    "plot.title('Days to completion by column')\n",
    "plot.show()"
   ]
  },
  {
   "cell_type": "markdown",
   "metadata": {},
   "source": [
    "Verifying that our result is correct with the Monte-Carlo method:"
   ]
  },
  {
   "cell_type": "code",
   "execution_count": 7,
   "metadata": {},
   "outputs": [
    {
     "name": "stdout",
     "output_type": "stream",
     "text": [
      "MonteCarlo with 10000 runs:\n",
      "Average days it takes to complete an item in state 0: 23.4415\n"
     ]
    }
   ],
   "source": [
    "simulationCount = 10000\n",
    "stateToTest = 0\n",
    "print(\"MonteCarlo with {} runs:\".format(simulationCount))\n",
    "print(\"Average days it takes to complete an item in state {}: {}\".format(stateToTest, dayUntilDone(matrix, 0, simulationCount)))"
   ]
  },
  {
   "cell_type": "markdown",
   "metadata": {},
   "source": [
    "## Are we accurate?\n",
    "We test if we are accurate by calculating some error. For comparison we calculate the error for a predecition where our answers is always \"the board will look the same like yesterday\". Feel free to test against other models or prediction methods."
   ]
  },
  {
   "cell_type": "code",
   "execution_count": 8,
   "metadata": {},
   "outputs": [
    {
     "name": "stdout",
     "output_type": "stream",
     "text": [
      "How will this board: '[56, 29, 18, 1, 1, 13]' look after 7 days?\n",
      "\n",
      "Test result: [27, 18, 15, 6, 0, 52]\n",
      "Markov result: [31. 21. 21.  4.  2. 39.]\n",
      "\n",
      "Error: 5.0\n",
      "Error if we would say nothing changes: 11.0\n"
     ]
    }
   ],
   "source": [
    "days = 7\n",
    "startingState = 0 # 0 if all tickets should start in the first column\n",
    "def getBoardAfterDays(data, numberOfDaysInFuture):\n",
    "    board = [0] * matrix.shape[0]\n",
    "    for row in data:\n",
    "        startingIndex = firstPositiveIndex(np.array(row) - startingState)\n",
    "        stateAfterDays = row[startingIndex+numberOfDaysInFuture] if startingIndex+numberOfDaysInFuture < len(row) else row[-1]\n",
    "        board[stateAfterDays]+=1\n",
    "    return board\n",
    "testingBoard=getBoardAfterDays(testingSet, 0)\n",
    "print(\"How will this board: '{}' look after {} days?\".format(testingBoard, days))\n",
    "def testWherePrediction(numberOfDaysInFuture):\n",
    "    testResult = getBoardAfterDays(testingSet, numberOfDaysInFuture)\n",
    "    matrixAfterSomeTime = np.linalg.matrix_power(matrix, numberOfDaysInFuture)\n",
    "    markovResult = (testingBoard @ matrixAfterSomeTime).round()\n",
    "    print(\"\\nTest result: \" + str(testResult))\n",
    "    print(\"Markov result: \" + str(markovResult))\n",
    "    print(\"\\nError: \" + str(1/len(testResult)*sum(map(abs, testResult - markovResult))))\n",
    "    print(\"Error if we would say nothing changes: \" + str(1/len(markovResult)*sum(map(abs, testingBoard - markovResult))))\n",
    "testWherePrediction(days)"
   ]
  },
  {
   "cell_type": "code",
   "execution_count": null,
   "metadata": {},
   "outputs": [],
   "source": []
  }
 ],
 "metadata": {
  "kernelspec": {
   "display_name": "Python 3",
   "language": "python",
   "name": "python3"
  },
  "language_info": {
   "codemirror_mode": {
    "name": "ipython",
    "version": 3
   },
   "file_extension": ".py",
   "mimetype": "text/x-python",
   "name": "python",
   "nbconvert_exporter": "python",
   "pygments_lexer": "ipython3",
   "version": "3.7.3"
  }
 },
 "nbformat": 4,
 "nbformat_minor": 2
}
